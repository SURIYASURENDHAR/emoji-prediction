{
  "nbformat": 4,
  "nbformat_minor": 0,
  "metadata": {
    "colab": {
      "provenance": [],
      "authorship_tag": "ABX9TyO4owgpj4koK6bwW+4IQ+2G",
      "include_colab_link": true
    },
    "kernelspec": {
      "name": "python3",
      "display_name": "Python 3"
    },
    "language_info": {
      "name": "python"
    }
  },
  "cells": [
    {
      "cell_type": "markdown",
      "metadata": {
        "id": "view-in-github",
        "colab_type": "text"
      },
      "source": [
        "<a href=\"https://colab.research.google.com/github/SURIYASURENDHAR/emoji-prediction/blob/main/untitled19.ipynb\" target=\"_parent\"><img src=\"https://colab.research.google.com/assets/colab-badge.svg\" alt=\"Open In Colab\"/></a>"
      ]
    },
    {
      "cell_type": "code",
      "source": [
        "from PIL import Image, ImageDraw, ImageFont\n",
        "import textwrap"
      ],
      "metadata": {
        "id": "aWqUOZ_uQSBq"
      },
      "execution_count": null,
      "outputs": []
    },
    {
      "cell_type": "code",
      "source": [
        "im = Image.open(\"/content/idontalways (1).jpg\")"
      ],
      "metadata": {
        "id": "gqNFmNWeQ7iD"
      },
      "execution_count": null,
      "outputs": []
    },
    {
      "cell_type": "code",
      "source": [
        "draw = ImageDraw.Draw(im)"
      ],
      "metadata": {
        "id": "uzC9xefyQ7k1"
      },
      "execution_count": null,
      "outputs": []
    },
    {
      "cell_type": "code",
      "source": [
        "image_width, image_height = im.size"
      ],
      "metadata": {
        "id": "7BpTCVm0Q7nc"
      },
      "execution_count": null,
      "outputs": []
    },
    {
      "cell_type": "code",
      "source": [
        "#Load font"
      ],
      "metadata": {
        "id": "7oQbpGadQ7qC"
      },
      "execution_count": null,
      "outputs": []
    },
    {
      "cell_type": "code",
      "source": [
        "font = ImageFont.truetype(font=\"/content/impact.ttf\", size=int(image_height/12))"
      ],
      "metadata": {
        "id": "_EI8moiNQ7wf"
      },
      "execution_count": null,
      "outputs": []
    },
    {
      "cell_type": "code",
      "source": [
        "#Wrap text"
      ],
      "metadata": {
        "id": "qt6eetuzQ7yb"
      },
      "execution_count": null,
      "outputs": []
    },
    {
      "cell_type": "code",
      "source": [
        "top_text = \"I dont always make memes\"\n",
        "bottom_text = \"But when I do, I use Python\""
      ],
      "metadata": {
        "id": "OFgvsDAvQ701"
      },
      "execution_count": null,
      "outputs": []
    },
    {
      "cell_type": "code",
      "source": [
        "top_text = top_text.upper()\n",
        "bottom_text = bottom_text.upper()"
      ],
      "metadata": {
        "id": "65WHJKzRQ73M"
      },
      "execution_count": null,
      "outputs": []
    },
    {
      "cell_type": "code",
      "source": [
        "char_width, char_height = font.getsize('A')\n"
      ],
      "metadata": {
        "colab": {
          "base_uri": "https://localhost:8080/"
        },
        "id": "wwSaauUcQ752",
        "outputId": "778371f0-78c9-41b4-feb5-9f5cd6af3b43"
      },
      "execution_count": null,
      "outputs": [
        {
          "output_type": "stream",
          "name": "stderr",
          "text": [
            "<ipython-input-13-3fd3ae36e4db>:1: DeprecationWarning: getsize is deprecated and will be removed in Pillow 10 (2023-07-01). Use getbbox or getlength instead.\n",
            "  char_width, char_height = font.getsize('A')\n"
          ]
        }
      ]
    },
    {
      "cell_type": "code",
      "source": [
        "chars_per_line = image_width // char_width\n"
      ],
      "metadata": {
        "id": "LgY9jEaQQ78j"
      },
      "execution_count": null,
      "outputs": []
    },
    {
      "cell_type": "code",
      "source": [
        "top_lines = textwrap.wrap(top_text, width=chars_per_line)\n",
        "bottom_lines = textwrap.wrap(bottom_text, width=chars_per_line)"
      ],
      "metadata": {
        "id": "nIsn5CvqQ7-v"
      },
      "execution_count": null,
      "outputs": []
    },
    {
      "cell_type": "code",
      "source": [
        "bottom_lines"
      ],
      "metadata": {
        "colab": {
          "base_uri": "https://localhost:8080/"
        },
        "id": "4KdVaw6QQ8B5",
        "outputId": "7180ca15-1413-45c1-edce-3d8bb2dbb08e"
      },
      "execution_count": null,
      "outputs": [
        {
          "output_type": "execute_result",
          "data": {
            "text/plain": [
              "['BUT WHEN I DO, I', 'USE PYTHON']"
            ]
          },
          "metadata": {},
          "execution_count": 16
        }
      ]
    },
    {
      "cell_type": "code",
      "source": [
        "y = 10\n",
        "for line in top_lines:\n",
        "    line_width, line_height = font.getsize(line)\n",
        "    x = (image_width - line_width)/2\n",
        "    draw.text((x,y), line, fill='white', font=font)\n",
        "    y += line_height"
      ],
      "metadata": {
        "colab": {
          "base_uri": "https://localhost:8080/"
        },
        "id": "v06H9KCSQ8EP",
        "outputId": "22f20610-b86d-4a39-96d9-d2cdcdcb85d8"
      },
      "execution_count": null,
      "outputs": [
        {
          "output_type": "stream",
          "name": "stderr",
          "text": [
            "<ipython-input-17-4cf67dfec5cb>:3: DeprecationWarning: getsize is deprecated and will be removed in Pillow 10 (2023-07-01). Use getbbox or getlength instead.\n",
            "  line_width, line_height = font.getsize(line)\n"
          ]
        }
      ]
    },
    {
      "cell_type": "code",
      "source": [
        "y = image_height - char_height * len(bottom_lines) - 15\n",
        "for line in bottom_lines:\n",
        "    line_width, line_height = font.getsize(line)\n",
        "    x = (image_width - line_width)/2\n",
        "    draw.text((x,y), line, fill='white', font=font)\n",
        "    y += line_height"
      ],
      "metadata": {
        "colab": {
          "base_uri": "https://localhost:8080/"
        },
        "id": "IR5RLJK9Q8Ge",
        "outputId": "9fa42f34-3069-435c-adb1-f9d6afabf198"
      },
      "execution_count": null,
      "outputs": [
        {
          "output_type": "stream",
          "name": "stderr",
          "text": [
            "<ipython-input-18-dece0af7ae1d>:3: DeprecationWarning: getsize is deprecated and will be removed in Pillow 10 (2023-07-01). Use getbbox or getlength instead.\n",
            "  line_width, line_height = font.getsize(line)\n"
          ]
        }
      ]
    },
    {
      "cell_type": "code",
      "source": [
        "im.show()"
      ],
      "metadata": {
        "id": "SL9cLwLfQ8JT"
      },
      "execution_count": null,
      "outputs": []
    },
    {
      "cell_type": "code",
      "source": [
        "im.save('meme-' + im.filename.split('/')[-1])"
      ],
      "metadata": {
        "id": "UjOs8SvRQ8MB"
      },
      "execution_count": null,
      "outputs": []
    },
    {
      "cell_type": "code",
      "source": [
        "import textwrap"
      ],
      "metadata": {
        "id": "i9pHY2fsQ8OZ"
      },
      "execution_count": null,
      "outputs": []
    },
    {
      "cell_type": "code",
      "source": [
        "from PIL import Image, ImageDraw,ImageFont\n",
        "import numpy as np\n"
      ],
      "metadata": {
        "id": "F4g0d0T_l9Aq"
      },
      "execution_count": null,
      "outputs": []
    },
    {
      "cell_type": "code",
      "source": [
        "def generate_meme(image_path, top_text, bottom_text='', font_path='/content/impact.ttf', save_path='meme_generated.jpg', font_size_pct=10, stroke_width=2):\n",
        "    im = Image.open(image_path)\n",
        "    draw = ImageDraw.Draw(im)\n",
        "    image_width, image_height = im.size\n",
        "\n",
        "    # Load specific font\n",
        "    font = ImageFont.truetype(font_path, size=int(image_height * font_size_pct) // 100)\n",
        "\n",
        "    top_text = top_text.upper()\n",
        "    bottom_text = bottom_text.upper()\n",
        "\n"
      ],
      "metadata": {
        "id": "fBitE_bDzZ-_"
      },
      "execution_count": null,
      "outputs": []
    },
    {
      "cell_type": "code",
      "source": [
        "# Text wrapping\n",
        "char_width, char_height = font.getbbox('A')[2:4]\n",
        "chars_per_line = image_width // char_width\n",
        "top_lines = textwrap.wrap(top_text, width=chars_per_line)\n",
        "bottom_lines = textwrap.wrap(bottom_text, width=chars_per_line)"
      ],
      "metadata": {
        "id": "xw0q0i6-gWlA"
      },
      "execution_count": null,
      "outputs": []
    },
    {
      "cell_type": "code",
      "source": [
        "  # Draw top lines\n",
        "y = 10\n",
        "for line in top_lines:\n",
        "        line_width, line_height = draw.textsize(line, font=font)\n",
        "        x = (image_width - line_width) / 2\n",
        "        draw.text((x, y), line, fill='white', font=font, stroke_width=stroke_width, stroke_fill='black')\n",
        "        y += line_height"
      ],
      "metadata": {
        "colab": {
          "base_uri": "https://localhost:8080/"
        },
        "id": "jek4o7qxgfDv",
        "outputId": "29f86dc5-e290-4a6b-b99d-ff247fa31d05"
      },
      "execution_count": null,
      "outputs": [
        {
          "output_type": "stream",
          "name": "stderr",
          "text": [
            "<ipython-input-58-3980c0769920>:4: DeprecationWarning: textsize is deprecated and will be removed in Pillow 10 (2023-07-01). Use textbbox or textlength instead.\n",
            "  line_width, line_height = draw.textsize(line, font=font)\n",
            "<ipython-input-58-3980c0769920>:4: DeprecationWarning: textsize is deprecated and will be removed in Pillow 10 (2023-07-01). Use textbbox or textlength instead.\n",
            "  line_width, line_height = draw.textsize(line, font=font)\n"
          ]
        }
      ]
    },
    {
      "cell_type": "code",
      "source": [
        "# Draw bottom lines if present\n",
        "if bottom_text:\n",
        "        y = image_height - char_height * len(bottom_lines) - 15\n",
        "        for line in bottom_lines:\n",
        "            line_width, line_height = draw.textsize(line, font=font)\n",
        "            x = (image_width - line_width) / 2\n",
        "            draw.text((x, y), line, fill='white', font=font, stroke_width=stroke_width, stroke_fill='black')\n",
        "            y += line_height\n"
      ],
      "metadata": {
        "colab": {
          "base_uri": "https://localhost:8080/"
        },
        "id": "MywabwHNgmRK",
        "outputId": "eb17de5f-0845-4462-d73f-f577343d8b10"
      },
      "execution_count": null,
      "outputs": [
        {
          "output_type": "stream",
          "name": "stderr",
          "text": [
            "<ipython-input-60-a611c4b3bd67>:5: DeprecationWarning: textsize is deprecated and will be removed in Pillow 10 (2023-07-01). Use textbbox or textlength instead.\n",
            "  line_width, line_height = draw.textsize(line, font=font)\n",
            "<ipython-input-60-a611c4b3bd67>:5: DeprecationWarning: textsize is deprecated and will be removed in Pillow 10 (2023-07-01). Use textbbox or textlength instead.\n",
            "  line_width, line_height = draw.textsize(line, font=font)\n"
          ]
        }
      ]
    },
    {
      "cell_type": "code",
      "source": [
        " # Save meme\n",
        "im.save(save_path)\n",
        "\n",
        "\n",
        "if __name__ == '__main__':\n",
        "    # Example usage to generate a meme\n",
        "    image_path = '/content/idontalways (1).jpg'\n",
        "    top_text = \"I don't always make memes\"\n",
        "    bottom_text = \"But when I do, I use Python\"\n",
        "    font_path = '/content/impact.ttf'  # Ensure the correct path to your font\n",
        "    save_path = '/content/meme_generated.jpg'\n",
        "    generate_meme(image_path, top_text, bottom_text, font_path, save_path)"
      ],
      "metadata": {
        "id": "Iffd29xhgu8R"
      },
      "execution_count": null,
      "outputs": []
    },
    {
      "cell_type": "code",
      "source": [],
      "metadata": {
        "id": "ofbagbJrfqIR"
      },
      "execution_count": null,
      "outputs": []
    }
  ]
}